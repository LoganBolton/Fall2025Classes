{
 "cells": [
  {
   "cell_type": "code",
   "execution_count": 1,
   "id": "4a179a29",
   "metadata": {},
   "outputs": [],
   "source": [
    "import numpy as np\n",
    "import matplotlib.pyplot as plt\n",
    "import matplotlib.patches as patches\n",
    "from skimage import io  #has functions to read and write images\n",
    "from skimage import color as change # contains function to change between color spaces\n",
    "\n",
    "import cv2  # OpenCV - https://opencv.org/\n",
    "\n",
    "np.set_printoptions(precision=2)\n",
    "\n",
    "from IPython.display import Image\n",
    "\n",
    "photometric_path = \"/content/drive/MyDrive/Classes/photometric_hidden_image.png\"\n",
    "geometric_path = \"/content/drive/MyDrive/Classes/geometric_puzzle_scrambled.png\"\n"
   ]
  }
 ],
 "metadata": {
  "kernelspec": {
   "display_name": "base",
   "language": "python",
   "name": "python3"
  },
  "language_info": {
   "codemirror_mode": {
    "name": "ipython",
    "version": 3
   },
   "file_extension": ".py",
   "mimetype": "text/x-python",
   "name": "python",
   "nbconvert_exporter": "python",
   "pygments_lexer": "ipython3",
   "version": "3.12.4"
  }
 },
 "nbformat": 4,
 "nbformat_minor": 5
}
